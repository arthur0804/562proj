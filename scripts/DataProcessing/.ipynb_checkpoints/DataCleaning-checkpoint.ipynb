{
 "cells": [
  {
   "cell_type": "code",
   "execution_count": 1,
   "metadata": {},
   "outputs": [],
   "source": [
    "import pandas as pd\n",
    "import re"
   ]
  },
  {
   "cell_type": "code",
   "execution_count": 2,
   "metadata": {},
   "outputs": [],
   "source": [
    "df = pd.read_csv(\"tone_content_genre.tsv\")"
   ]
  },
  {
   "cell_type": "code",
   "execution_count": 3,
   "metadata": {},
   "outputs": [
    {
     "data": {
      "text/plain": [
       "(7005, 3)"
      ]
     },
     "execution_count": 3,
     "metadata": {},
     "output_type": "execute_result"
    }
   ],
   "source": [
    "df.shape"
   ]
  },
  {
   "cell_type": "code",
   "execution_count": 4,
   "metadata": {},
   "outputs": [
    {
     "name": "stdout",
     "output_type": "stream",
     "text": [
      "0 rows have been processed\n",
      "1000 rows have been processed\n",
      "2000 rows have been processed\n",
      "3000 rows have been processed\n",
      "4000 rows have been processed\n",
      "5000 rows have been processed\n",
      "6000 rows have been processed\n",
      "7000 rows have been processed\n"
     ]
    }
   ],
   "source": [
    "for index, row in df.iterrows():\n",
    "    contents = df.loc[index,\"content\"]\n",
    "    new_contents = []\n",
    "    \n",
    "    for content in contents.split(\"-----\"):\n",
    "        \n",
    "        # 1) remove new line and tab character\n",
    "        new_content = re.sub(r'\\n',\"\",content)\n",
    "        new_content = re.sub(r'\\t',\"\",new_content)\n",
    "        \n",
    "        # 2) remove any parenthese\n",
    "        new_content = re.sub(r'\\(.*?\\)',\"\",new_content)\n",
    "        \n",
    "        # 3) remove punctuation\n",
    "        new_content = re.sub(r\"[^\\w\\s]\", \"\", new_content)\n",
    "        \n",
    "        new_content = new_content.strip()\n",
    "        new_contents.append(new_content)\n",
    "    \n",
    "    newcontents = \"-----\".join(new_contents)\n",
    "    df.loc[index,\"content\"] = newcontents\n",
    "    \n",
    "    if index % 1000 == 0:\n",
    "        print(\"{} rows have been processed\".format(index))"
   ]
  },
  {
   "cell_type": "code",
   "execution_count": 5,
   "metadata": {},
   "outputs": [],
   "source": [
    "# This is final dataset we are going to use.\n",
    "df.to_csv(\"tone_content_genre_cleaned.tsv\", index = False)"
   ]
  },
  {
   "cell_type": "code",
   "execution_count": 6,
   "metadata": {},
   "outputs": [],
   "source": [
    "# see the distribution of tones\n",
    "tones = []\n",
    "for index, row in df.iterrows():\n",
    "    tone = df.loc[index, \"tone\"]\n",
    "    for i in tone.split(\",\"):\n",
    "        tones.append(i)"
   ]
  },
  {
   "cell_type": "code",
   "execution_count": 7,
   "metadata": {
    "scrolled": true
   },
   "outputs": [
    {
     "name": "stdout",
     "output_type": "stream",
     "text": [
      "Each book has 1.5187723054960742 tones on average.\n",
      "There are 59 unique tones.\n"
     ]
    }
   ],
   "source": [
    "print(\"Each book has {} tones on average.\".format(len(tones)/df.shape[0]))\n",
    "print(\"There are {} unique tones.\".format(len(set(tones))))"
   ]
  }
 ],
 "metadata": {
  "kernelspec": {
   "display_name": "Python 3",
   "language": "python",
   "name": "python3"
  },
  "language_info": {
   "codemirror_mode": {
    "name": "ipython",
    "version": 3
   },
   "file_extension": ".py",
   "mimetype": "text/x-python",
   "name": "python",
   "nbconvert_exporter": "python",
   "pygments_lexer": "ipython3",
   "version": "3.7.4"
  }
 },
 "nbformat": 4,
 "nbformat_minor": 2
}
