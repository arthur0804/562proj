{
 "cells": [
  {
   "cell_type": "code",
   "execution_count": 1,
   "metadata": {},
   "outputs": [],
   "source": [
    "# This scripts explores the data in the XML file\n",
    "# to see how many books have reivews, tones and other fields"
   ]
  },
  {
   "cell_type": "code",
   "execution_count": 2,
   "metadata": {},
   "outputs": [],
   "source": [
    "import sys\n",
    "import xml.etree.ElementTree as ET\n",
    "from random import random"
   ]
  },
  {
   "cell_type": "code",
   "execution_count": 3,
   "metadata": {},
   "outputs": [],
   "source": [
    "ET.register_namespace(\"\", \"http://www.loc.gov/MARC21/slim\")\n",
    "tree = ET.parse(\"./novelist_project.xml\")\n",
    "root = tree.getroot()"
   ]
  },
  {
   "cell_type": "code",
   "execution_count": 4,
   "metadata": {},
   "outputs": [],
   "source": [
    "# some encoding designed by our clients\n",
    "\n",
    "FIELD_CODE = {\n",
    "    'Title': '245',\n",
    "    'Author': '100',\n",
    "    'Annotation': '520',\n",
    "    'Reviews': '598',\n",
    "    'Subject (personal name)': '600',\n",
    "    'Subject (general)': '650',\n",
    "    'Genre': '655',\n",
    "    'Tone': '694'\n",
    "}"
   ]
  },
  {
   "cell_type": "code",
   "execution_count": 5,
   "metadata": {},
   "outputs": [],
   "source": [
    "# get a list of textual contents for a given XML record and a data-field tag\n",
    "# params:\n",
    "#     record: an XML element pointer\n",
    "#     tag: a string of numbers representing the tag of a data-field, e.g. '694'\n",
    "# return:\n",
    "#     a Python list. A record can have multiple data-fields with the same tag,\n",
    "#     each having a string content. For instance, if tag is '694', then \n",
    "#     the function returns the list of assigned tones to the record.\n",
    "\n",
    "def get_datafield_content_array(record, tag):\n",
    "    content_array = []\n",
    "    for field in record:\n",
    "        if field.tag.endswith('datafield'):\n",
    "            if 'tag' in field.attrib:\n",
    "                if field.attrib['tag'] == tag: # find the tag\n",
    "                    for subfield in field:\n",
    "                        if subfield.tag.endswith('subfield'):\n",
    "                            if 'code' in subfield.attrib:\n",
    "                                if subfield.attrib['code'] == 'a':\n",
    "                                    content_array.append( subfield.text )\n",
    "    return content_array"
   ]
  },
  {
   "cell_type": "code",
   "execution_count": 6,
   "metadata": {},
   "outputs": [],
   "source": [
    "# get the textual content for a given XML record and a control-field tag\n",
    "# params:\n",
    "#     record: an XML element pointer\n",
    "#     tag: a string of numbers representing the tag of a control-field, e.g. '001' for control number\n",
    "# returns:\n",
    "#     the string of control field\n",
    "\n",
    "def get_control_field(record, tag):\n",
    "    for field in record:\n",
    "        if field.tag.endswith('controlfield'):\n",
    "            if 'tag' in field.attrib:\n",
    "                if field.attrib['tag'] == tag:\n",
    "                    return field.text\n",
    "    return 'NULL'"
   ]
  },
  {
   "cell_type": "code",
   "execution_count": 7,
   "metadata": {},
   "outputs": [],
   "source": [
    "num_record = 0\n",
    "num_record_with_title = 0\n",
    "num_record_with_author = 0\n",
    "num_record_with_annotation = 0\n",
    "num_record_with_review = 0\n",
    "num_record_with_subject_general = 0\n",
    "num_record_with_genre = 0\n",
    "num_record_with_tone = 0\n",
    "num_record_with_review_and_tone = 0\n",
    "\n",
    "tone_freq = {}\n",
    "control_numbers = {}"
   ]
  },
  {
   "cell_type": "code",
   "execution_count": 8,
   "metadata": {},
   "outputs": [],
   "source": [
    "for record in root:\n",
    "\n",
    "    record_id  = get_control_field(record, '001')\n",
    "    title           = get_datafield_content_array(record, FIELD_CODE['Title'])\n",
    "    author          = get_datafield_content_array(record, FIELD_CODE['Author'])\n",
    "    annotation      = get_datafield_content_array(record, FIELD_CODE['Annotation'])\n",
    "    reviews         = get_datafield_content_array(record, FIELD_CODE['Reviews'])\n",
    "    subject_general = get_datafield_content_array(record, FIELD_CODE['Subject (general)'])\n",
    "    genre           = get_datafield_content_array(record, FIELD_CODE['Genre'])\n",
    "    tone            = get_datafield_content_array(record, FIELD_CODE['Tone'])\n",
    "\n",
    "    # collecting statistics\n",
    "    num_record += 1\n",
    "\n",
    "    if len(title) >=1:\n",
    "        num_record_with_title += 1\n",
    "    if len(author) >= 1:\n",
    "        num_record_with_author += 1\n",
    "    if len(annotation) >= 1:\n",
    "        num_record_with_annotation += 1\n",
    "    if len(reviews) >= 1:\n",
    "        num_record_with_review += 1\n",
    "    if len(subject_general) >= 1:\n",
    "        num_record_with_subject_general += 1\n",
    "    if len(genre) >= 1:\n",
    "        num_record_with_genre += 1\n",
    "    if len(tone) >= 1:\n",
    "        num_record_with_tone += 1\n",
    "\n",
    "    if len(reviews) >= 1 and len(tone) >= 1:\n",
    "        num_record_with_review_and_tone += 1\n",
    "\n",
    "    # update the tone frequency dictionary \n",
    "    for t in tone:\n",
    "        if t in tone_freq:\n",
    "            tone_freq[t] += 1\n",
    "        else:\n",
    "            tone_freq[t] = 1\n",
    "\n",
    "    # update the control number dictionary (to check if there's any duplicated control numbers)\n",
    "    if record_id in control_numbers:\n",
    "        control_numbers[record_id] += 1\n",
    "    else:\n",
    "        control_numbers[record_id] = 1"
   ]
  },
  {
   "cell_type": "code",
   "execution_count": 9,
   "metadata": {},
   "outputs": [
    {
     "name": "stdout",
     "output_type": "stream",
     "text": [
      "number of records: 28737\n",
      "number of records with title: 28737\n",
      "number of records with author: 28059\n",
      "number of records with annotation: 25769\n",
      "number of records with review: 14044\n",
      "number of records with subject_general: 28406\n",
      "number of records with genre: 28633\n",
      "number of records with tone: 12787\n",
      "number of records with review_tone: 7005\n",
      "number of unique control_numbers: 28737\n",
      "number of unique tones: 59\n"
     ]
    }
   ],
   "source": [
    "print ('number of records:', num_record)\n",
    "print ('number of records with title:', num_record_with_title)\n",
    "print ('number of records with author:', num_record_with_author)\n",
    "print ('number of records with annotation:', num_record_with_annotation)\n",
    "print ('number of records with review:', num_record_with_review)\n",
    "print ('number of records with subject_general:', num_record_with_subject_general)\n",
    "print ('number of records with genre:', num_record_with_genre)\n",
    "print ('number of records with tone:', num_record_with_tone) \n",
    "print ('number of records with review_tone:', num_record_with_review_and_tone) \n",
    "\n",
    "print ('number of unique control_numbers:', len(control_numbers)) \n",
    "print ('number of unique tones:', len(tone_freq)) "
   ]
  },
  {
   "cell_type": "code",
   "execution_count": 10,
   "metadata": {},
   "outputs": [
    {
     "name": "stdout",
     "output_type": "stream",
     "text": [
      "tones by frequency:\n",
      "[('Suspenseful', 2449), ('Atmospheric', 1621), ('Steamy', 1234), ('Moving', 1225), ('Amusing', 1095), ('Thought-provoking', 842), ('Strong sense of place', 747), ('Funny', 586), ('Upbeat', 574), ('Dramatic', 559), ('Heartwarming', 503), ('Violent', 458), ('Offbeat', 406), ('Bleak', 387), ('Disturbing', 386), ('Reflective', 384), ('Inspiring', 362), ('Romantic', 359), ('High-drama', 341), ('Darkly humorous', 314), ('Feel-good', 277), ('Angst-filled', 276), ('Explicit', 271), ('Whimsical', 248), ('Creepy', 246), ('Gruesome', 246), ('Moody', 217), ('Sardonic', 214), ('Haunting', 208), ('Menacing', 207), ('Impassioned', 184), ('Sobering', 162), ('Sweet', 148), ('Emotionally intense', 144), ('Melancholy', 126), ('Bittersweet', 125), ('Silly', 122), ('Chaste', 121), ('Mildly sensuous', 118), ('Homespun', 110), ('Irreverent', 103), ('Heartwrenching', 93), ('Nostalgic', 89), ('Scary', 83), ('Quiet', 82), ('Spiritual', 74), ('Hopeful', 69), ('Conservative', 64), ('Racy humor', 60), ('Serious', 54), ('Gossipy', 53), ('Gross', 42), ('Mystical', 41), ('Self-deprecating', 39), ('Impartial', 37), ('Noisy', 21), ('Sad', 18), ('Liberal', 16), ('Patriotic', 5)]\n"
     ]
    }
   ],
   "source": [
    "print ('tones by frequency:')\n",
    "print (sorted(tone_freq.items(), key = lambda x: x[1], reverse = True))"
   ]
  }
 ],
 "metadata": {
  "kernelspec": {
   "display_name": "Python 3",
   "language": "python",
   "name": "python3"
  },
  "language_info": {
   "codemirror_mode": {
    "name": "ipython",
    "version": 3
   },
   "file_extension": ".py",
   "mimetype": "text/x-python",
   "name": "python",
   "nbconvert_exporter": "python",
   "pygments_lexer": "ipython3",
   "version": "3.7.4"
  }
 },
 "nbformat": 4,
 "nbformat_minor": 2
}
