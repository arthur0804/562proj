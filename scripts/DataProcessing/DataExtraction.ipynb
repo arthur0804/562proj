{
 "cells": [
  {
   "cell_type": "code",
   "execution_count": 1,
   "metadata": {},
   "outputs": [],
   "source": [
    "# This scripts extracts useful fields from the XML file"
   ]
  },
  {
   "cell_type": "code",
   "execution_count": 2,
   "metadata": {},
   "outputs": [],
   "source": [
    "import xml.etree.ElementTree as ET\n",
    "import re\n",
    "import pandas as pd"
   ]
  },
  {
   "cell_type": "code",
   "execution_count": 3,
   "metadata": {},
   "outputs": [],
   "source": [
    "columns = ['content', 'tone', 'genre']\n",
    "df = pd.DataFrame(columns=columns)"
   ]
  },
  {
   "cell_type": "code",
   "execution_count": 4,
   "metadata": {},
   "outputs": [],
   "source": [
    "tree = ET.parse('novelist_project.xml')\n",
    "root = tree.getroot()"
   ]
  },
  {
   "cell_type": "code",
   "execution_count": 5,
   "metadata": {},
   "outputs": [],
   "source": [
    "def CleanText(raw_text):\n",
    "    # clean html charsets\n",
    "    new_text = re.sub(r'&[\\w;#\\w]*;', ' ', raw_text)\n",
    "    return new_text"
   ]
  },
  {
   "cell_type": "code",
   "execution_count": 6,
   "metadata": {
    "scrolled": true
   },
   "outputs": [
    {
     "name": "stdout",
     "output_type": "stream",
     "text": [
      "1000 results have been done\n",
      "2000 results have been done\n",
      "3000 results have been done\n",
      "4000 results have been done\n",
      "5000 results have been done\n",
      "6000 results have been done\n",
      "7000 results have been done\n",
      "8000 results have been done\n",
      "9000 results have been done\n",
      "10000 results have been done\n",
      "11000 results have been done\n",
      "12000 results have been done\n",
      "13000 results have been done\n",
      "14000 results have been done\n",
      "15000 results have been done\n",
      "16000 results have been done\n",
      "17000 results have been done\n",
      "18000 results have been done\n",
      "19000 results have been done\n",
      "20000 results have been done\n",
      "21000 results have been done\n",
      "22000 results have been done\n",
      "23000 results have been done\n",
      "24000 results have been done\n",
      "25000 results have been done\n",
      "26000 results have been done\n",
      "27000 results have been done\n",
      "28000 results have been done\n"
     ]
    }
   ],
   "source": [
    "i = 0\n",
    "\n",
    "# each record\n",
    "for record in root:\n",
    "    tone = []\n",
    "    content = []\n",
    "    genre = []\n",
    "    # each field\n",
    "    for field in record:\n",
    "        if field.tag.endswith('datafield'):\n",
    "            if 'tag' in field.attrib:\n",
    "\n",
    "                # content\n",
    "                if field.attrib['tag'] == \"598\":\n",
    "                    # iterate through subfileds\n",
    "                    for subfield in field:\n",
    "                        if subfield.tag.endswith('subfield'):\n",
    "                            if 'code' in subfield.attrib:\n",
    "                                if subfield.attrib['code'] == 'a':\n",
    "                                    new_text = CleanText(subfield.text)\n",
    "                                    content.append(new_text)\n",
    "\n",
    "                # genre\n",
    "                elif field.attrib['tag'] == \"655\":\n",
    "                    # iterate through subfileds\n",
    "                    for subfield in field:\n",
    "                        if subfield.tag.endswith('subfield'):\n",
    "                            if 'code' in subfield.attrib:\n",
    "                                if subfield.attrib['code'] == 'a':\n",
    "                                    genre.append(subfield.text)\n",
    "\n",
    "                # tone\n",
    "                elif field.attrib['tag'] == \"694\":\n",
    "                    # iterate through subfileds\n",
    "                    for subfield in field:\n",
    "                        if subfield.tag.endswith('subfield'):\n",
    "                            if 'code' in subfield.attrib:\n",
    "                                if subfield.attrib['code'] == 'a':\n",
    "                                    tone.append(subfield.text)\n",
    "\n",
    "    if len(tone) > 0 and len(content) > 0:\n",
    "        contents = \"-----\".join(content)\n",
    "        tones = \",\".join(tone)\n",
    "        genres = \",\".join(genre)\n",
    "        df.loc[len(df)] = [contents, tones, genres]\n",
    "\n",
    "        \n",
    "    i += 1\n",
    "    if i % 1000 == 0:\n",
    "        print(\"{} results have been done\".format(i))"
   ]
  },
  {
   "cell_type": "code",
   "execution_count": 7,
   "metadata": {},
   "outputs": [
    {
     "data": {
      "text/html": [
       "<div>\n",
       "<style scoped>\n",
       "    .dataframe tbody tr th:only-of-type {\n",
       "        vertical-align: middle;\n",
       "    }\n",
       "\n",
       "    .dataframe tbody tr th {\n",
       "        vertical-align: top;\n",
       "    }\n",
       "\n",
       "    .dataframe thead th {\n",
       "        text-align: right;\n",
       "    }\n",
       "</style>\n",
       "<table border=\"1\" class=\"dataframe\">\n",
       "  <thead>\n",
       "    <tr style=\"text-align: right;\">\n",
       "      <th></th>\n",
       "      <th>content</th>\n",
       "      <th>tone</th>\n",
       "      <th>genre</th>\n",
       "    </tr>\n",
       "  </thead>\n",
       "  <tbody>\n",
       "    <tr>\n",
       "      <td>0</td>\n",
       "      <td>/* Starred Review */  Swedish writing duo Rosl...</td>\n",
       "      <td>Violent,Disturbing,Suspenseful</td>\n",
       "      <td>Mysteries,Translations,Scandinavian crime fiction</td>\n",
       "    </tr>\n",
       "    <tr>\n",
       "      <td>1</td>\n",
       "      <td>Grades 9-12  It s bad enough that Dan s father...</td>\n",
       "      <td>Angst-filled,Upbeat</td>\n",
       "      <td>Realistic fiction,Australian fiction</td>\n",
       "    </tr>\n",
       "    <tr>\n",
       "      <td>2</td>\n",
       "      <td>Magill Book Review: Raskolnikov, an impoverish...</td>\n",
       "      <td>Darkly humorous,Reflective,Disturbing</td>\n",
       "      <td>Psychological fiction,Translations,Classics</td>\n",
       "    </tr>\n",
       "    <tr>\n",
       "      <td>3</td>\n",
       "      <td>He's a former U.S. Representative from Florid...</td>\n",
       "      <td>Thought-provoking</td>\n",
       "      <td>Collective autobiographies and memoirs,Life st...</td>\n",
       "    </tr>\n",
       "    <tr>\n",
       "      <td>4</td>\n",
       "      <td>Grades 3-6  Tom Gates is still slogging his wa...</td>\n",
       "      <td>Funny,Angst-filled</td>\n",
       "      <td>Realistic fiction,Humorous stories,Diary novel...</td>\n",
       "    </tr>\n",
       "  </tbody>\n",
       "</table>\n",
       "</div>"
      ],
      "text/plain": [
       "                                             content  \\\n",
       "0  /* Starred Review */  Swedish writing duo Rosl...   \n",
       "1  Grades 9-12  It s bad enough that Dan s father...   \n",
       "2  Magill Book Review: Raskolnikov, an impoverish...   \n",
       "3   He's a former U.S. Representative from Florid...   \n",
       "4  Grades 3-6  Tom Gates is still slogging his wa...   \n",
       "\n",
       "                                    tone  \\\n",
       "0         Violent,Disturbing,Suspenseful   \n",
       "1                    Angst-filled,Upbeat   \n",
       "2  Darkly humorous,Reflective,Disturbing   \n",
       "3                      Thought-provoking   \n",
       "4                     Funny,Angst-filled   \n",
       "\n",
       "                                               genre  \n",
       "0  Mysteries,Translations,Scandinavian crime fiction  \n",
       "1               Realistic fiction,Australian fiction  \n",
       "2        Psychological fiction,Translations,Classics  \n",
       "3  Collective autobiographies and memoirs,Life st...  \n",
       "4  Realistic fiction,Humorous stories,Diary novel...  "
      ]
     },
     "execution_count": 7,
     "metadata": {},
     "output_type": "execute_result"
    }
   ],
   "source": [
    "df.head()"
   ]
  },
  {
   "cell_type": "code",
   "execution_count": 8,
   "metadata": {},
   "outputs": [
    {
     "data": {
      "text/plain": [
       "(7005, 3)"
      ]
     },
     "execution_count": 8,
     "metadata": {},
     "output_type": "execute_result"
    }
   ],
   "source": [
    "df.shape"
   ]
  },
  {
   "cell_type": "code",
   "execution_count": 9,
   "metadata": {},
   "outputs": [],
   "source": [
    "df.to_csv(\"tone_content_genre.tsv\", encoding=\"utf-8\", index=False)"
   ]
  }
 ],
 "metadata": {
  "kernelspec": {
   "display_name": "Python 3",
   "language": "python",
   "name": "python3"
  },
  "language_info": {
   "codemirror_mode": {
    "name": "ipython",
    "version": 3
   },
   "file_extension": ".py",
   "mimetype": "text/x-python",
   "name": "python",
   "nbconvert_exporter": "python",
   "pygments_lexer": "ipython3",
   "version": "3.7.4"
  }
 },
 "nbformat": 4,
 "nbformat_minor": 2
}
